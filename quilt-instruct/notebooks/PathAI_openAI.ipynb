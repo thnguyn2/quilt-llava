{
 "cells": [
  {
   "cell_type": "markdown",
   "metadata": {},
   "source": [
    "# Demo notebooks to get OpenAI API keys.\n",
    "Reference: [PathAI OpenAI access](https://pathai.atlassian.net/wiki/spaces/ML/pages/149553179/OpenAI+API+Access)\n",
    "\n",
    "To run this noteobook, use the `base` environment with Python 3.10.14."
   ]
  },
  {
   "cell_type": "code",
   "execution_count": 1,
   "metadata": {},
   "outputs": [],
   "source": [
    "import os\n",
    "import hvac\n",
    "from functools import lru_cache\n",
    "from urllib.parse import quote, urlencode"
   ]
  },
  {
   "cell_type": "code",
   "execution_count": 2,
   "metadata": {},
   "outputs": [],
   "source": [
    "VAULT_HOSTNAME = \"vault-server.services.pathai.com\"\n",
    "VAULT_TOKEN_PATH = \"secret/openai-api\""
   ]
  },
  {
   "cell_type": "code",
   "execution_count": 4,
   "metadata": {},
   "outputs": [],
   "source": [
    "def fetch_vault_token() -> str:\n",
    "    \"\"\"Returns a vault token that is assumed to live at '~/.vault-token'.\"\"\"\n",
    "    with open(os.path.join(os.path.expanduser(\"~\"), \".vault-token\"), encoding=\"utf-8\") as vault_file:\n",
    "        return vault_file.readline().strip()"
   ]
  },
  {
   "cell_type": "code",
   "execution_count": 5,
   "metadata": {},
   "outputs": [],
   "source": [
    "@lru_cache()\n",
    "def fetch_openai_token_from_vault(use_case=\"VLM\"):\n",
    "    \"\"\"Fetch a GitLab token from vault given a vault path.\n",
    "    Args:\n",
    "        ml_platform: Whether or not to retrieve token for ML Platform (vs. ML Plug-ins). Defaults to True.\n",
    "    Returns:\n",
    "        GitLab token from vault.\n",
    "    \"\"\"\n",
    "    response = None\n",
    "    try:\n",
    "        vault_token = fetch_vault_token()\n",
    "        client = hvac.Client(f\"https://{quote(VAULT_HOSTNAME)}\", token=vault_token, verify=False)\n",
    "        response = client.read(VAULT_TOKEN_PATH)\n",
    "    finally:\n",
    "        if not response:\n",
    "            raise ValueError(\n",
    "                \"Fetch vault token failed, try refreshing vault token using \"\n",
    "                \"'vault login -method=okta username=your.name@pathai.com'\"\n",
    "            )\n",
    "    if use_case not in response['data']:\n",
    "        raise ValueError(f\"No access-token found for use-case {use_case}\")\n",
    "    return response['data'][use_case]"
   ]
  },
  {
   "cell_type": "code",
   "execution_count": 9,
   "metadata": {},
   "outputs": [],
   "source": [
    "os.environ['OPENAI_API_KEY'] = fetch_openai_token_from_vault()"
   ]
  },
  {
   "cell_type": "markdown",
   "metadata": {},
   "source": [
    "# Test the API token"
   ]
  },
  {
   "cell_type": "raw",
   "metadata": {
    "vscode": {
     "languageId": "raw"
    }
   },
   "source": [
    "!pip install openai"
   ]
  },
  {
   "cell_type": "code",
   "execution_count": 14,
   "metadata": {},
   "outputs": [],
   "source": [
    "from openai import OpenAI"
   ]
  },
  {
   "cell_type": "code",
   "execution_count": 17,
   "metadata": {
    "vscode": {
     "languageId": "powershell"
    }
   },
   "outputs": [],
   "source": [
    "# print(f\"OpenAI API Key: {os.environ['OPENAI_API_KEY']}\")"
   ]
  },
  {
   "cell_type": "code",
   "execution_count": 15,
   "metadata": {},
   "outputs": [
    {
     "name": "stdout",
     "output_type": "stream",
     "text": [
      "{\n",
      "  \"year\": 2021,\n",
      "  \"winner\": \"Atlanta Braves\"\n",
      "}\n"
     ]
    }
   ],
   "source": [
    "client = OpenAI()\n",
    "response = client.chat.completions.create(\n",
    "  model=\"gpt-4o-2024-05-13\",\n",
    "  response_format={ \"type\": \"json_object\" },\n",
    "  messages=[\n",
    "    {\"role\": \"system\", \"content\": \"You are a helpful assistant designed to output JSON.\"},\n",
    "    {\"role\": \"user\", \"content\": \"Who won the world series in 2021?\"}\n",
    "  ]\n",
    ")\n",
    "print(response.choices[0].message.content)\n"
   ]
  }
 ],
 "metadata": {
  "kernelspec": {
   "display_name": "base",
   "language": "python",
   "name": "python3"
  },
  "language_info": {
   "codemirror_mode": {
    "name": "ipython",
    "version": 3
   },
   "file_extension": ".py",
   "mimetype": "text/x-python",
   "name": "python",
   "nbconvert_exporter": "python",
   "pygments_lexer": "ipython3",
   "version": "3.10.14"
  }
 },
 "nbformat": 4,
 "nbformat_minor": 2
}
